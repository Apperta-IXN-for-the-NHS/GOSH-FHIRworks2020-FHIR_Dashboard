{
 "cells": [
  {
   "cell_type": "code",
   "execution_count": 44,
   "metadata": {},
   "outputs": [],
   "source": [
    "from fhir_parser import FHIR, Patient, Observation\n",
    "from fhir_parser.patient import Patient, Name, Telecom, Communications, Extension, Identifier\n",
    "from fhir_parser.observation import Observation, ObservationComponent"
   ]
  },
  {
   "cell_type": "code",
   "execution_count": 45,
   "metadata": {},
   "outputs": [
    {
     "data": {
      "text/plain": [
       "[<fhir_parser.patient.Patient at 0x10d47ae80>,\n",
       " <fhir_parser.patient.Patient at 0x10d47ae10>,\n",
       " <fhir_parser.patient.Patient at 0x10d44efd0>,\n",
       " <fhir_parser.patient.Patient at 0x10d44e048>,\n",
       " <fhir_parser.patient.Patient at 0x10d44de80>,\n",
       " <fhir_parser.patient.Patient at 0x10d44d320>,\n",
       " <fhir_parser.patient.Patient at 0x11d2e3b70>,\n",
       " <fhir_parser.patient.Patient at 0x11d2e3358>,\n",
       " <fhir_parser.patient.Patient at 0x11153e860>,\n",
       " <fhir_parser.patient.Patient at 0x11153ea20>]"
      ]
     },
     "execution_count": 45,
     "metadata": {},
     "output_type": "execute_result"
    }
   ],
   "source": [
    "fhir = FHIR()\n",
    "patients = fhir.get_all_patients()\n",
    "specific_patient = fhir.get_patient('8f789d0b-3145-4cf2-8504-13159edaa747')\n",
    "first_page_patients = fhir.get_patient_page(1)\n",
    "first_page_patients"
   ]
  },
  {
   "cell_type": "code",
   "execution_count": 46,
   "metadata": {},
   "outputs": [
    {
     "name": "stdout",
     "output_type": "stream",
     "text": [
      "8f789d0b-3145-4cf2-8504-13159edaa747\n",
      "b905139e-1601-403c-9d85-f8e3997cdd19\n",
      "d9eb4cf6-2894-4627-b912-bbdca07b0401\n",
      "ac529235-6fbc-48f0-a3fa-de7f1924d497\n",
      "cc0acce0-30e1-40b8-911a-aa33dc094706\n",
      "fabeac89-3134-4afe-b8c4-b3e8004b5d11\n",
      "c0c5a342-5a04-4f91-a38d-1b23ad1f5058\n",
      "32bcb68a-a9f0-42f5-9a7a-ddb4f31e25e8\n",
      "58a08e4e-cc5b-4ffa-958b-4829ff0ba010\n",
      "fea08173-18e9-41d9-9f20-d9187ec906c0\n"
     ]
    }
   ],
   "source": [
    "for patient in first_page_patients:\n",
    "    print(patient.uuid)"
   ]
  },
  {
   "cell_type": "code",
   "execution_count": 47,
   "metadata": {},
   "outputs": [
    {
     "name": "stdout",
     "output_type": "stream",
     "text": [
      "Ms.Abby752Beatty507\n",
      "Mr.Abram53Weimann465\n",
      "Mr.Abram53Weissnat378\n",
      "Mr.Alvaro283Green467\n",
      "Mr.Amado512Wolff180\n",
      "Anita473Ulloa39\n",
      "Mrs.Antionette825Dooley940\n",
      "Mr.Aurelio227Kohler843\n",
      "Mrs.Berna338Donnelly343\n",
      "Ms.Belle514Harber290\n"
     ]
    }
   ],
   "source": [
    "for patient in first_page_patients:\n",
    "    # print(patient.name)\n",
    "    print(patient.name.prefix + patient.name.given + patient.name.family)"
   ]
  },
  {
   "cell_type": "code",
   "execution_count": 48,
   "metadata": {},
   "outputs": [
    {
     "name": "stdout",
     "output_type": "stream",
     "text": [
      "home phone: 555-118-9003\n",
      "home phone: 555-462-1974\n",
      "home phone: 555-560-7469\n",
      "home phone: 555-792-1478\n",
      "home phone: 555-899-4256\n",
      "home phone: 555-621-4911\n",
      "home phone: 555-194-3804\n",
      "home phone: 555-910-1600\n",
      "home phone: 555-911-8920\n",
      "home phone: 555-205-5986\n"
     ]
    }
   ],
   "source": [
    "for patient in first_page_patients:\n",
    "    telecom = patient.telecoms # lists\n",
    "    print(telecom[0])"
   ]
  },
  {
   "cell_type": "code",
   "execution_count": null,
   "metadata": {},
   "outputs": [],
   "source": []
  },
  {
   "cell_type": "code",
   "execution_count": null,
   "metadata": {},
   "outputs": [],
   "source": []
  },
  {
   "cell_type": "code",
   "execution_count": null,
   "metadata": {},
   "outputs": [],
   "source": []
  },
  {
   "cell_type": "code",
   "execution_count": null,
   "metadata": {},
   "outputs": [],
   "source": []
  },
  {
   "cell_type": "code",
   "execution_count": null,
   "metadata": {},
   "outputs": [],
   "source": []
  },
  {
   "cell_type": "code",
   "execution_count": null,
   "metadata": {},
   "outputs": [],
   "source": []
  },
  {
   "cell_type": "code",
   "execution_count": null,
   "metadata": {},
   "outputs": [],
   "source": []
  }
 ],
 "metadata": {
  "kernelspec": {
   "display_name": "Python 3",
   "language": "python",
   "name": "python3"
  },
  "language_info": {
   "codemirror_mode": {
    "name": "ipython",
    "version": 3
   },
   "file_extension": ".py",
   "mimetype": "text/x-python",
   "name": "python",
   "nbconvert_exporter": "python",
   "pygments_lexer": "ipython3",
   "version": "3.7.0"
  }
 },
 "nbformat": 4,
 "nbformat_minor": 4
}
