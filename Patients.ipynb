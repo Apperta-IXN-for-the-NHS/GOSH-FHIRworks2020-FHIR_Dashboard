{
 "cells": [
  {
   "cell_type": "code",
   "execution_count": 1,
   "metadata": {},
   "outputs": [],
   "source": [
    "from fhir_parser import FHIR, Patient, Observation\n",
    "from fhir_parser.patient import Patient, Name, Telecom, Communications, Extension, Identifier\n",
    "from fhir_parser.observation import Observation, ObservationComponent"
   ]
  },
  {
   "cell_type": "code",
   "execution_count": 17,
   "metadata": {},
   "outputs": [
    {
     "name": "stdout",
     "output_type": "stream",
     "text": [
      "1198\n",
      "sp: 8f789d0b-3145-4cf2-8504-13159edaa747 | Ms. Abby752 Beatty507 | female | 1998-08-25 | ['506 Herzog Byway Apt 99;Barre, Massachusetts;01005, US'] | ['home phone: 555-118-9003'] | Never Married | False | English | ['us-core-race: White', 'us-core-ethnicity: Not Hispanic or Latino', 'patient-mothersMaidenName: Tisa11 Quitzon246', 'us-core-birthsex: F', 'patient-birthPlace: Braintree, Massachusetts, US', 'disability-adjusted-life-years: 0.008222155373400033', 'quality-adjusted-life-years: 20.9917778446266'] | [' 8f789d0b-3145-4cf2-8504-13159edaa747', 'Medical Record Number 8f789d0b-3145-4cf2-8504-13159edaa747', 'Social Security Number 999-58-8677', \"Driver's License S99995899\", 'Passport Number X80142477X']\n"
     ]
    }
   ],
   "source": [
    "fhir = FHIR()\n",
    "patients = fhir.get_all_patients()\n",
    "print(len(patients))\n",
    "specific_patient = fhir.get_patient('8f789d0b-3145-4cf2-8504-13159edaa747')\n",
    "first_page_patients = fhir.get_patient_page(1)\n",
    "first_page_patients\n",
    "print(\"sp:\", specific_patient)"
   ]
  },
  {
   "cell_type": "code",
   "execution_count": 41,
   "metadata": {},
   "outputs": [
    {
     "data": {
      "text/plain": [
       "['English']"
      ]
     },
     "execution_count": 41,
     "metadata": {},
     "output_type": "execute_result"
    }
   ],
   "source": [
    "specific_patient.communications.languages"
   ]
  },
  {
   "cell_type": "code",
   "execution_count": 4,
   "metadata": {},
   "outputs": [
    {
     "name": "stdout",
     "output_type": "stream",
     "text": [
      "8f789d0b-3145-4cf2-8504-13159edaa747\n",
      "b905139e-1601-403c-9d85-f8e3997cdd19\n",
      "d9eb4cf6-2894-4627-b912-bbdca07b0401\n",
      "ac529235-6fbc-48f0-a3fa-de7f1924d497\n",
      "cc0acce0-30e1-40b8-911a-aa33dc094706\n",
      "fabeac89-3134-4afe-b8c4-b3e8004b5d11\n",
      "c0c5a342-5a04-4f91-a38d-1b23ad1f5058\n",
      "32bcb68a-a9f0-42f5-9a7a-ddb4f31e25e8\n",
      "58a08e4e-cc5b-4ffa-958b-4829ff0ba010\n",
      "fea08173-18e9-41d9-9f20-d9187ec906c0\n"
     ]
    }
   ],
   "source": [
    "for patient in first_page_patients:\n",
    "    print(patient.uuid)"
   ]
  },
  {
   "cell_type": "code",
   "execution_count": 47,
   "metadata": {},
   "outputs": [
    {
     "name": "stdout",
     "output_type": "stream",
     "text": [
      "Ms.Abby752Beatty507\n",
      "Mr.Abram53Weimann465\n",
      "Mr.Abram53Weissnat378\n",
      "Mr.Alvaro283Green467\n",
      "Mr.Amado512Wolff180\n",
      "Anita473Ulloa39\n",
      "Mrs.Antionette825Dooley940\n",
      "Mr.Aurelio227Kohler843\n",
      "Mrs.Berna338Donnelly343\n",
      "Ms.Belle514Harber290\n"
     ]
    }
   ],
   "source": [
    "for patient in first_page_patients:\n",
    "    # print(patient.name)\n",
    "    print(patient.name.prefix + patient.name.given + patient.name.family)"
   ]
  },
  {
   "cell_type": "code",
   "execution_count": 48,
   "metadata": {},
   "outputs": [
    {
     "name": "stdout",
     "output_type": "stream",
     "text": [
      "home phone: 555-118-9003\n",
      "home phone: 555-462-1974\n",
      "home phone: 555-560-7469\n",
      "home phone: 555-792-1478\n",
      "home phone: 555-899-4256\n",
      "home phone: 555-621-4911\n",
      "home phone: 555-194-3804\n",
      "home phone: 555-910-1600\n",
      "home phone: 555-911-8920\n",
      "home phone: 555-205-5986\n"
     ]
    }
   ],
   "source": [
    "for patient in first_page_patients:\n",
    "    telecom = patient.telecoms # lists\n",
    "    print(telecom[0])"
   ]
  },
  {
   "cell_type": "code",
   "execution_count": 49,
   "metadata": {},
   "outputs": [
    {
     "name": "stdout",
     "output_type": "stream",
     "text": [
      "female\n",
      "male\n",
      "male\n",
      "male\n",
      "male\n",
      "female\n",
      "female\n",
      "male\n",
      "female\n",
      "female\n"
     ]
    }
   ],
   "source": [
    "for patient in first_page_patients:\n",
    "    print(patient.gender)"
   ]
  },
  {
   "cell_type": "code",
   "execution_count": 52,
   "metadata": {},
   "outputs": [
    {
     "name": "stdout",
     "output_type": "stream",
     "text": [
      "1998-08-25\n",
      "1965-07-12\n",
      "1973-10-21\n",
      "1989-08-21\n",
      "1974-05-05\n",
      "2015-10-16\n",
      "1968-01-27\n",
      "1979-04-12\n",
      "1976-06-11\n",
      "1998-12-30\n"
     ]
    }
   ],
   "source": [
    "for patient in first_page_patients:\n",
    "    # type: <class 'datetime.date'>\n",
    "    print(patient.birth_date)"
   ]
  },
  {
   "cell_type": "code",
   "execution_count": 70,
   "metadata": {},
   "outputs": [
    {
     "name": "stdout",
     "output_type": "stream",
     "text": [
      "506 Herzog Byway Apt 99\n",
      "Barre, Massachusetts\n",
      "01005, US\n",
      "42.459058557265024\n",
      "-72.08148901491732\n",
      "\n",
      "119 Heidenreich Pathway Unit 24\n",
      "Hanson, Massachusetts\n",
      ", US\n",
      "42.078171990952825\n",
      "-70.88703252960762\n",
      "\n",
      "358 Oberbrunner Approach Apt 4\n",
      "Blackstone, Massachusetts\n",
      ", US\n",
      "42.05283200979602\n",
      "-71.52523247435127\n",
      "\n",
      "695 Quigley Trafficway\n",
      "Westfield, Massachusetts\n",
      "01085, US\n",
      "42.18921631388142\n",
      "-72.81495035797629\n",
      "\n",
      "920 Torp Stravenue\n",
      "Fall River, Massachusetts\n",
      ", US\n",
      "41.677001517457505\n",
      "-71.18725223043504\n",
      "\n",
      "1060 King Trace\n",
      "Walpole, Massachusetts\n",
      "02081, US\n",
      "42.10351985115262\n",
      "-71.27672422769825\n",
      "\n",
      "732 Little Dale Apt 30\n",
      "Newton, Massachusetts\n",
      "02465, US\n",
      "42.309061871604705\n",
      "-71.21547331568405\n",
      "\n",
      "200 Hand Green Suite 29\n",
      "Brockton, Massachusetts\n",
      "02301, US\n",
      "42.09395543456224\n",
      "-71.02369601949985\n",
      "\n",
      "693 Schmidt Port Apt 1\n",
      "Boston, Massachusetts\n",
      "02467, US\n",
      "42.350094733257684\n",
      "-71.14078743009742\n",
      "\n",
      "441 Nolan Stravenue Unit 83\n",
      "Marlborough, Massachusetts\n",
      ", US\n",
      "42.34780211802707\n",
      "-71.55663609403013\n",
      "\n"
     ]
    }
   ],
   "source": [
    "for patient in first_page_patients:\n",
    "    address = patient.addresses[0]\n",
    "    print(address.full_address)\n",
    "    print(address.latitude)\n",
    "    print(address.longitude)\n",
    "    print()"
   ]
  },
  {
   "cell_type": "code",
   "execution_count": 77,
   "metadata": {},
   "outputs": [
    {
     "name": "stdout",
     "output_type": "stream",
     "text": [
      "S\n",
      "M\n",
      "M\n",
      "M\n",
      "M\n",
      "S\n",
      "M\n",
      "S\n",
      "M\n",
      "S\n"
     ]
    }
   ],
   "source": [
    "# S -> Never Married\n",
    "# M -> Married\n",
    "for patient in first_page_patients:\n",
    "    marital = patient.marital_status\n",
    "    print(marital.marital_status)"
   ]
  },
  {
   "cell_type": "code",
   "execution_count": 80,
   "metadata": {},
   "outputs": [
    {
     "name": "stdout",
     "output_type": "stream",
     "text": [
      "False\n",
      "False\n",
      "False\n",
      "False\n",
      "False\n",
      "False\n",
      "False\n",
      "False\n",
      "False\n",
      "False\n"
     ]
    }
   ],
   "source": [
    "for patient in first_page_patients:\n",
    "    # <class 'bool'>\n",
    "    print(patient.multiple_birth)"
   ]
  },
  {
   "cell_type": "code",
   "execution_count": 82,
   "metadata": {},
   "outputs": [
    {
     "name": "stdout",
     "output_type": "stream",
     "text": [
      "['English']\n",
      "['English']\n",
      "['English']\n",
      "['English']\n",
      "['English']\n",
      "['Spanish']\n",
      "['English']\n",
      "['English']\n",
      "['English']\n",
      "['English']\n"
     ]
    }
   ],
   "source": [
    "for patient in first_page_patients:\n",
    "    communications = patient.communications\n",
    "    print(communications.languages)"
   ]
  },
  {
   "cell_type": "code",
   "execution_count": 83,
   "metadata": {},
   "outputs": [
    {
     "name": "stdout",
     "output_type": "stream",
     "text": [
      "[<fhir_parser.patient.Extension object at 0x10b28d748>, <fhir_parser.patient.Extension object at 0x10b28d4a8>, <fhir_parser.patient.Extension object at 0x10b28d2b0>, <fhir_parser.patient.Extension object at 0x10b28dfd0>, <fhir_parser.patient.Extension object at 0x10b28def0>, <fhir_parser.patient.Extension object at 0x10b28d278>, <fhir_parser.patient.Extension object at 0x10b28d208>]\n",
      "[<fhir_parser.patient.Extension object at 0x11d2fd278>, <fhir_parser.patient.Extension object at 0x11d2fd550>, <fhir_parser.patient.Extension object at 0x11d2fdd30>, <fhir_parser.patient.Extension object at 0x11d2fda20>, <fhir_parser.patient.Extension object at 0x11d2fdb38>, <fhir_parser.patient.Extension object at 0x11d2fd668>, <fhir_parser.patient.Extension object at 0x11d2fd630>]\n",
      "[<fhir_parser.patient.Extension object at 0x10e6e76a0>, <fhir_parser.patient.Extension object at 0x10e6e7780>, <fhir_parser.patient.Extension object at 0x10e6e78d0>, <fhir_parser.patient.Extension object at 0x10e6e7860>, <fhir_parser.patient.Extension object at 0x10e6e7710>, <fhir_parser.patient.Extension object at 0x11d2f8e80>, <fhir_parser.patient.Extension object at 0x11d2f8978>]\n",
      "[<fhir_parser.patient.Extension object at 0x12219f898>, <fhir_parser.patient.Extension object at 0x12219f908>, <fhir_parser.patient.Extension object at 0x12219f668>, <fhir_parser.patient.Extension object at 0x12219f128>, <fhir_parser.patient.Extension object at 0x12219f7b8>, <fhir_parser.patient.Extension object at 0x12219f748>, <fhir_parser.patient.Extension object at 0x12219f780>]\n",
      "[<fhir_parser.patient.Extension object at 0x12219feb8>, <fhir_parser.patient.Extension object at 0x12219ff60>, <fhir_parser.patient.Extension object at 0x12219ff98>, <fhir_parser.patient.Extension object at 0x12219ff28>, <fhir_parser.patient.Extension object at 0x12219fc88>, <fhir_parser.patient.Extension object at 0x12219fba8>, <fhir_parser.patient.Extension object at 0x12219fcf8>]\n",
      "[<fhir_parser.patient.Extension object at 0x1221a3080>, <fhir_parser.patient.Extension object at 0x1221a3550>, <fhir_parser.patient.Extension object at 0x1221a3710>, <fhir_parser.patient.Extension object at 0x1221a3748>, <fhir_parser.patient.Extension object at 0x1221a37f0>, <fhir_parser.patient.Extension object at 0x1221a3828>, <fhir_parser.patient.Extension object at 0x1221a3780>]\n",
      "[<fhir_parser.patient.Extension object at 0x1221a3978>, <fhir_parser.patient.Extension object at 0x1221a3b38>, <fhir_parser.patient.Extension object at 0x1221a33c8>, <fhir_parser.patient.Extension object at 0x1221a3940>, <fhir_parser.patient.Extension object at 0x1221a32b0>, <fhir_parser.patient.Extension object at 0x1221a30b8>, <fhir_parser.patient.Extension object at 0x122198128>]\n",
      "[<fhir_parser.patient.Extension object at 0x122198a58>, <fhir_parser.patient.Extension object at 0x122198a20>, <fhir_parser.patient.Extension object at 0x122198b00>, <fhir_parser.patient.Extension object at 0x122198c50>, <fhir_parser.patient.Extension object at 0x1221987f0>, <fhir_parser.patient.Extension object at 0x122198860>, <fhir_parser.patient.Extension object at 0x1221987b8>]\n",
      "[<fhir_parser.patient.Extension object at 0x1221986a0>, <fhir_parser.patient.Extension object at 0x122198be0>, <fhir_parser.patient.Extension object at 0x1221980f0>, <fhir_parser.patient.Extension object at 0x122198518>, <fhir_parser.patient.Extension object at 0x122198e10>, <fhir_parser.patient.Extension object at 0x122198470>, <fhir_parser.patient.Extension object at 0x1221986d8>]\n",
      "[<fhir_parser.patient.Extension object at 0x111520630>, <fhir_parser.patient.Extension object at 0x111520128>, <fhir_parser.patient.Extension object at 0x111520160>, <fhir_parser.patient.Extension object at 0x111520a90>, <fhir_parser.patient.Extension object at 0x1115207b8>, <fhir_parser.patient.Extension object at 0x111520860>, <fhir_parser.patient.Extension object at 0x1115209b0>]\n"
     ]
    }
   ],
   "source": [
    "for patient in first_page_patients:\n",
    "    print(patient.extensions)"
   ]
  },
  {
   "cell_type": "code",
   "execution_count": 84,
   "metadata": {},
   "outputs": [
    {
     "name": "stdout",
     "output_type": "stream",
     "text": [
      "[<fhir_parser.patient.Identifier object at 0x10b28d8d0>, <fhir_parser.patient.Identifier object at 0x10b28d2e8>, <fhir_parser.patient.Identifier object at 0x10b28d0f0>, <fhir_parser.patient.Identifier object at 0x10b28d550>, <fhir_parser.patient.Identifier object at 0x10b28d860>]\n",
      "[<fhir_parser.patient.Identifier object at 0x11d2fd748>, <fhir_parser.patient.Identifier object at 0x11d2fd978>, <fhir_parser.patient.Identifier object at 0x11d2fd320>, <fhir_parser.patient.Identifier object at 0x11d2fd9e8>, <fhir_parser.patient.Identifier object at 0x11d2fdc50>]\n",
      "[<fhir_parser.patient.Identifier object at 0x10b16f9e8>, <fhir_parser.patient.Identifier object at 0x10b16fda0>, <fhir_parser.patient.Identifier object at 0x10b16fb00>, <fhir_parser.patient.Identifier object at 0x10b16f2b0>, <fhir_parser.patient.Identifier object at 0x10b16f780>]\n",
      "[<fhir_parser.patient.Identifier object at 0x12219f518>, <fhir_parser.patient.Identifier object at 0x12219f710>, <fhir_parser.patient.Identifier object at 0x12219f5f8>, <fhir_parser.patient.Identifier object at 0x12219f320>, <fhir_parser.patient.Identifier object at 0x12219f400>]\n",
      "[<fhir_parser.patient.Identifier object at 0x12219fc18>, <fhir_parser.patient.Identifier object at 0x12219fb70>, <fhir_parser.patient.Identifier object at 0x12219fd30>, <fhir_parser.patient.Identifier object at 0x12219fd68>, <fhir_parser.patient.Identifier object at 0x12219f9e8>]\n",
      "[<fhir_parser.patient.Identifier object at 0x1221a3668>, <fhir_parser.patient.Identifier object at 0x1221a36a0>, <fhir_parser.patient.Identifier object at 0x1221a3400>]\n",
      "[<fhir_parser.patient.Identifier object at 0x122198400>, <fhir_parser.patient.Identifier object at 0x122198438>, <fhir_parser.patient.Identifier object at 0x1221983c8>, <fhir_parser.patient.Identifier object at 0x122198208>, <fhir_parser.patient.Identifier object at 0x122198278>]\n",
      "[<fhir_parser.patient.Identifier object at 0x122198978>, <fhir_parser.patient.Identifier object at 0x1221988d0>, <fhir_parser.patient.Identifier object at 0x122198908>, <fhir_parser.patient.Identifier object at 0x122198940>, <fhir_parser.patient.Identifier object at 0x122198710>]\n",
      "[<fhir_parser.patient.Identifier object at 0x122198780>, <fhir_parser.patient.Identifier object at 0x122198d68>, <fhir_parser.patient.Identifier object at 0x122198eb8>, <fhir_parser.patient.Identifier object at 0x122198cf8>, <fhir_parser.patient.Identifier object at 0x111520ac8>]\n",
      "[<fhir_parser.patient.Identifier object at 0x111520a58>, <fhir_parser.patient.Identifier object at 0x111520710>, <fhir_parser.patient.Identifier object at 0x111520978>, <fhir_parser.patient.Identifier object at 0x111520908>, <fhir_parser.patient.Identifier object at 0x111520a20>]\n"
     ]
    }
   ],
   "source": [
    "for patient in first_page_patients:\n",
    "    print(patient.identifiers)"
   ]
  },
  {
   "cell_type": "code",
   "execution_count": null,
   "metadata": {},
   "outputs": [],
   "source": []
  }
 ],
 "metadata": {
  "kernelspec": {
   "display_name": "Python 3",
   "language": "python",
   "name": "python3"
  },
  "language_info": {
   "codemirror_mode": {
    "name": "ipython",
    "version": 3
   },
   "file_extension": ".py",
   "mimetype": "text/x-python",
   "name": "python",
   "nbconvert_exporter": "python",
   "pygments_lexer": "ipython3",
   "version": "3.7.0"
  }
 },
 "nbformat": 4,
 "nbformat_minor": 4
}
