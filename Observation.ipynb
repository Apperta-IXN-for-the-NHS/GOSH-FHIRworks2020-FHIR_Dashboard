{
 "cells": [
  {
   "cell_type": "code",
   "execution_count": 3,
   "metadata": {},
   "outputs": [],
   "source": [
    "from fhir_parser import FHIR, Patient, Observation\n",
    "from fhir_parser.patient import Patient, Name, Telecom, Communications, Extension, Identifier\n",
    "from fhir_parser.observation import Observation, ObservationComponent"
   ]
  },
  {
   "cell_type": "code",
   "execution_count": 34,
   "metadata": {},
   "outputs": [
    {
     "name": "stdout",
     "output_type": "stream",
     "text": [
      "106\n"
     ]
    },
    {
     "data": {
      "text/plain": [
       "[<fhir_parser.observation.Observation at 0x1065caa90>,\n",
       " <fhir_parser.observation.Observation at 0x1065ca8d0>,\n",
       " <fhir_parser.observation.Observation at 0x1065cada0>,\n",
       " <fhir_parser.observation.Observation at 0x1065cad68>,\n",
       " <fhir_parser.observation.Observation at 0x1065ca9b0>,\n",
       " <fhir_parser.observation.Observation at 0x1065ca3c8>,\n",
       " <fhir_parser.observation.Observation at 0x1065ca9e8>,\n",
       " <fhir_parser.observation.Observation at 0x1065ca1d0>,\n",
       " <fhir_parser.observation.Observation at 0x1065ca160>,\n",
       " <fhir_parser.observation.Observation at 0x1065ca6d8>]"
      ]
     },
     "execution_count": 34,
     "metadata": {},
     "output_type": "execute_result"
    }
   ],
   "source": [
    "fhir = FHIR()\n",
    "observations = fhir.get_patient_observations('b905139e-1601-403c-9d85-f8e3997cdd19') #8f789d0b-3145-4cf2-8504-13159edaa747\n",
    "specific_observation  = fhir.get_observation('4a064229-2a40-45f4-a259-f4eedcfd525a')\n",
    "first_page_observations = fhir.get_patient_observations_page('8f789d0b-3145-4cf2-8504-13159edaa747', 1)\n",
    "print(len(observations))  # 83\n",
    "first_page_observations # 10. type -> list"
   ]
  },
  {
   "cell_type": "code",
   "execution_count": 37,
   "metadata": {},
   "outputs": [
    {
     "name": "stdout",
     "output_type": "stream",
     "text": [
      "39156-5\n",
      "85354-9\n",
      "2571-8\n",
      "18262-6\n",
      "72514-3\n",
      "72166-2\n",
      "2085-9\n",
      "8302-2\n",
      "29463-7\n",
      "85354-9\n",
      "8867-4\n",
      "4544-3\n",
      "6690-2\n",
      "21000-5\n",
      "777-3\n",
      "8302-2\n",
      "8867-4\n",
      "787-2\n",
      "786-4\n",
      "2093-3\n",
      "9279-1\n",
      "32623-1\n",
      "72514-3\n",
      "39156-5\n",
      "72514-3\n",
      "2571-8\n",
      "2085-9\n",
      "9279-1\n",
      "29463-7\n",
      "85354-9\n",
      "8302-2\n",
      "85354-9\n",
      "9279-1\n",
      "72166-2\n",
      "39156-5\n",
      "8867-4\n",
      "72166-2\n",
      "8867-4\n",
      "718-7\n",
      "785-6\n",
      "32207-3\n",
      "29463-7\n",
      "85354-9\n",
      "8302-2\n",
      "9279-1\n",
      "72166-2\n",
      "9279-1\n",
      "29463-7\n",
      "85354-9\n",
      "39156-5\n",
      "72514-3\n",
      "9279-1\n",
      "2093-3\n",
      "39156-5\n",
      "29463-7\n",
      "29463-7\n",
      "72166-2\n",
      "8302-2\n",
      "72514-3\n",
      "789-8\n",
      "8302-2\n",
      "29463-7\n",
      "85354-9\n",
      "8867-4\n",
      "8302-2\n",
      "9279-1\n",
      "72514-3\n",
      "72166-2\n",
      "72514-3\n",
      "39156-5\n",
      "8867-4\n",
      "8867-4\n",
      "18262-6\n",
      "39156-5\n",
      "2571-8\n",
      "2093-3\n",
      "4544-3\n",
      "21000-5\n",
      "789-8\n",
      "785-6\n",
      "6690-2\n",
      "32623-1\n",
      "8302-2\n",
      "18262-6\n",
      "718-7\n",
      "85354-9\n",
      "2085-9\n",
      "72514-3\n",
      "787-2\n",
      "777-3\n",
      "786-4\n",
      "32207-3\n",
      "8302-2\n",
      "72166-2\n",
      "39156-5\n",
      "72514-3\n",
      "85354-9\n",
      "29463-7\n",
      "39156-5\n",
      "9279-1\n",
      "8867-4\n",
      "72166-2\n",
      "8867-4\n",
      "9279-1\n",
      "29463-7\n",
      "72166-2\n"
     ]
    }
   ],
   "source": [
    "for ob in observations:\n",
    "    print(ob.components[0].code)\n",
    "#     print(\"patient\",ob.patient_uuid)\n",
    "\n",
    "# specific_observation.type"
   ]
  },
  {
   "cell_type": "code",
   "execution_count": 12,
   "metadata": {},
   "outputs": [
    {
     "name": "stdout",
     "output_type": "stream",
     "text": [
      "cffc1f61-5b02-4b60-b987-1ef87a35beda\n",
      "653381f1-475e-466c-b683-49bfed5718ae\n",
      "f282a870-2a75-48a8-8d8c-b75b69bace66\n",
      "efe0039a-2400-4b46-8946-64dd87968c93\n",
      "a4ae2d6d-bd83-46f4-91e8-9ee33320e927\n",
      "a07086e2-be19-4334-a570-da57b76f8a27\n",
      "bac8f991-1de3-40af-aade-78ed0685c8f7\n",
      "618848cc-5ea1-4b53-9ca6-dc02cda791f4\n",
      "39773264-dc55-4fcf-8b1a-a9f5e8b1ca28\n",
      "1d945974-37de-4aa1-aab4-f4d205225e43\n"
     ]
    }
   ],
   "source": [
    "for observation in first_page_observations:\n",
    "    print(observation.uuid)"
   ]
  },
  {
   "cell_type": "code",
   "execution_count": 14,
   "metadata": {},
   "outputs": [
    {
     "name": "stdout",
     "output_type": "stream",
     "text": [
      "vital-signs\n",
      "vital-signs\n",
      "vital-signs\n",
      "survey\n",
      "vital-signs\n",
      "vital-signs\n",
      "vital-signs\n",
      "survey\n",
      "vital-signs\n",
      "vital-signs\n"
     ]
    }
   ],
   "source": [
    "for observation in first_page_observations:\n",
    "    print(observation.type)"
   ]
  },
  {
   "cell_type": "code",
   "execution_count": 15,
   "metadata": {},
   "outputs": [
    {
     "name": "stdout",
     "output_type": "stream",
     "text": [
      "8f789d0b-3145-4cf2-8504-13159edaa747\n",
      "8f789d0b-3145-4cf2-8504-13159edaa747\n",
      "8f789d0b-3145-4cf2-8504-13159edaa747\n",
      "8f789d0b-3145-4cf2-8504-13159edaa747\n",
      "8f789d0b-3145-4cf2-8504-13159edaa747\n",
      "8f789d0b-3145-4cf2-8504-13159edaa747\n",
      "8f789d0b-3145-4cf2-8504-13159edaa747\n",
      "8f789d0b-3145-4cf2-8504-13159edaa747\n",
      "8f789d0b-3145-4cf2-8504-13159edaa747\n",
      "8f789d0b-3145-4cf2-8504-13159edaa747\n"
     ]
    }
   ],
   "source": [
    "# 8f789d0b-3145-4cf2-8504-13159edaa747\n",
    "for observation in first_page_observations:\n",
    "    print(observation.patient_uuid)"
   ]
  },
  {
   "cell_type": "code",
   "execution_count": 16,
   "metadata": {},
   "outputs": [
    {
     "name": "stdout",
     "output_type": "stream",
     "text": [
      "04090f8c-076e-4af1-9582-98d8cae66764\n",
      "87e3a745-e712-4467-8d99-0ab97f6f4455\n",
      "04090f8c-076e-4af1-9582-98d8cae66764\n",
      "87e3a745-e712-4467-8d99-0ab97f6f4455\n",
      "04090f8c-076e-4af1-9582-98d8cae66764\n",
      "87e3a745-e712-4467-8d99-0ab97f6f4455\n",
      "6b432786-3b29-407e-ac06-c8b66b2a9683\n",
      "6b432786-3b29-407e-ac06-c8b66b2a9683\n",
      "375062d7-43e8-424d-86a2-d8e54b09e612\n",
      "375062d7-43e8-424d-86a2-d8e54b09e612\n"
     ]
    }
   ],
   "source": [
    "for observation in first_page_observations:\n",
    "    print(observation.encounter_uuid)"
   ]
  },
  {
   "cell_type": "code",
   "execution_count": 19,
   "metadata": {},
   "outputs": [
    {
     "name": "stdout",
     "output_type": "stream",
     "text": [
      "2011-09-20 21:27:12+01:00\n",
      "2011-09-20 21:27:12.215000+01:00\n",
      "2010-09-14 21:27:12+01:00\n",
      "2010-09-14 21:27:12.215000+01:00\n",
      "2011-09-20 21:27:12+01:00\n",
      "2011-09-20 21:27:12.215000+01:00\n",
      "2010-09-14 21:27:12+01:00\n",
      "2010-09-14 21:27:12.215000+01:00\n",
      "2011-09-20 21:27:12+01:00\n",
      "2011-09-20 21:27:12.215000+01:00\n",
      "2010-09-14 21:27:12+01:00\n",
      "2010-09-14 21:27:12.215000+01:00\n",
      "2012-09-25 21:27:12+01:00\n",
      "2012-09-25 21:27:12.215000+01:00\n",
      "2012-09-25 21:27:12+01:00\n",
      "2012-09-25 21:27:12.215000+01:00\n",
      "2013-10-01 21:27:12+01:00\n",
      "2013-10-01 21:27:12.215000+01:00\n",
      "2013-10-01 21:27:12+01:00\n",
      "2013-10-01 21:27:12.215000+01:00\n"
     ]
    }
   ],
   "source": [
    "for observation in first_page_observations:\n",
    "    print(observation.effective_datetime)\n",
    "    print(observation.issued_datetime)"
   ]
  },
  {
   "cell_type": "code",
   "execution_count": 33,
   "metadata": {},
   "outputs": [
    {
     "name": "stdout",
     "output_type": "stream",
     "text": [
      "http://loinc.org\n",
      "9279-1\n",
      "Respiratory rate\n",
      "16.0/min\n",
      "\n",
      "http://loinc.org\n",
      "9279-1\n",
      "Respiratory rate\n",
      "12.0/min\n",
      "\n",
      "http://loinc.org\n",
      "59576-9\n",
      "Body mass index (BMI) [Percentile] Per age and gender\n",
      "69.56%\n",
      "\n",
      "http://loinc.org\n",
      "72166-2\n",
      "Tobacco smoking status NHIS\n",
      "N/A\n",
      "\n",
      "http://loinc.org\n",
      "8302-2\n",
      "Body Height\n",
      "151.0cm\n",
      "\n",
      "http://loinc.org\n",
      "85354-9\n",
      "Blood Pressure\n",
      "N/A\n",
      "\n",
      "http://loinc.org\n",
      "29463-7\n",
      "Body Weight\n",
      "50.2kg\n",
      "\n",
      "http://loinc.org\n",
      "72166-2\n",
      "Tobacco smoking status NHIS\n",
      "N/A\n",
      "\n",
      "http://loinc.org\n",
      "39156-5\n",
      "Body Mass Index\n",
      "21.68kg/m2\n",
      "\n",
      "http://loinc.org\n",
      "72514-3\n",
      "Pain severity - 0-10 verbal numeric rating [Score] - Reported\n",
      "1.0{score}\n",
      "\n"
     ]
    }
   ],
   "source": [
    "for observation in first_page_observations:\n",
    "    component = observation.components[0]\n",
    "    print(component.system)\n",
    "    print(component.code)\n",
    "    print(component.display)\n",
    "    print(component.quantity())\n",
    "    print()"
   ]
  },
  {
   "cell_type": "code",
   "execution_count": null,
   "metadata": {},
   "outputs": [],
   "source": []
  },
  {
   "cell_type": "code",
   "execution_count": null,
   "metadata": {},
   "outputs": [],
   "source": []
  },
  {
   "cell_type": "code",
   "execution_count": null,
   "metadata": {},
   "outputs": [],
   "source": []
  },
  {
   "cell_type": "code",
   "execution_count": null,
   "metadata": {},
   "outputs": [],
   "source": []
  }
 ],
 "metadata": {
  "kernelspec": {
   "display_name": "Python 3",
   "language": "python",
   "name": "python3"
  },
  "language_info": {
   "codemirror_mode": {
    "name": "ipython",
    "version": 3
   },
   "file_extension": ".py",
   "mimetype": "text/x-python",
   "name": "python",
   "nbconvert_exporter": "python",
   "pygments_lexer": "ipython3",
   "version": "3.7.0"
  }
 },
 "nbformat": 4,
 "nbformat_minor": 4
}
